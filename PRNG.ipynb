{
 "cells": [
  {
   "cell_type": "code",
   "execution_count": 17,
   "outputs": [],
   "source": [
    "file_name=str(input())"
   ],
   "metadata": {
    "collapsed": false,
    "pycharm": {
     "name": "#%%\n"
    }
   }
  },
  {
   "cell_type": "code",
   "execution_count": 18,
   "metadata": {
    "collapsed": true
   },
   "outputs": [],
   "source": [
    "import re\n",
    "\n",
    "import csv\n",
    "\n",
    "import pymysql\n",
    "\n",
    "from openpyxl import Workbook\n",
    "import random  # 난수 생성\n",
    "\n"
   ]
  },
  {
   "cell_type": "code",
   "execution_count": 19,
   "outputs": [],
   "source": [
    "write_wb = Workbook()\n",
    "write_ws = write_wb.active"
   ],
   "metadata": {
    "collapsed": false,
    "pycharm": {
     "name": "#%%\n"
    }
   }
  },
  {
   "cell_type": "code",
   "execution_count": 20,
   "outputs": [],
   "source": [
    "conn = pymysql.connect(host='localhost', user='root', password='tjsals6092',\n",
    "\n",
    "                       db='MASKING', charset='utf8')\n",
    "\n",
    "curs = conn.cursor()\n",
    "\n",
    "conn.commit()"
   ],
   "metadata": {
    "collapsed": false,
    "pycharm": {
     "name": "#%%\n"
    }
   }
  },
  {
   "cell_type": "code",
   "execution_count": 21,
   "outputs": [],
   "source": [
    "sql = \"\"\"SELECT * FROM MASKING.MASKING_TABLE\"\"\"\n",
    "write_ws.append(('ID','이름','성별','집번호','핸드폰번호'))"
   ],
   "metadata": {
    "collapsed": false,
    "pycharm": {
     "name": "#%%\n"
    }
   }
  },
  {
   "cell_type": "markdown",
   "source": [],
   "metadata": {
    "collapsed": false
   }
  },
  {
   "cell_type": "code",
   "execution_count": 22,
   "outputs": [
    {
     "name": "stdout",
     "output_type": "stream",
     "text": [
      "[20, 61, 250, 96, 34, 110, 285, 288, 67, 224, 105, 277, 136, 124, 190, 30, 56, 155, 112, 283, 255, 78, 50, 234, 221, 196, 106, 216, 153, 154, 237, 97, 22, 197, 233, 46, 227, 193, 184, 185, 262, 123, 82, 5, 219, 222, 253, 116, 55, 140, 207, 165, 265, 53, 13, 245, 289, 63, 91, 126, 280, 174, 47, 156, 229, 48, 202, 226, 107, 122, 204, 77, 42, 166, 44, 129, 192, 167, 89, 210, 273, 12, 11, 43, 160, 6, 215, 171, 36, 298, 111, 157, 281, 243, 29, 54, 164, 198, 9, 133, 0, 38, 75, 146, 125, 294, 113, 101, 246, 132, 109, 200, 1, 149, 274, 248, 15, 223, 211, 23, 292, 57, 73, 103, 93, 209, 212, 85, 191, 161, 241, 148, 269, 32, 201, 143, 98, 25, 282, 80, 179, 293, 286, 230, 69, 189, 74, 144, 41, 51, 208, 180, 141, 10, 170, 231, 276, 187, 260, 267, 62, 45, 27, 168, 92, 90, 24, 104, 176, 17, 137, 225, 87, 257, 240, 299, 220, 158, 8, 86, 252, 3, 279, 150, 26, 203, 145, 76, 49, 2, 118, 295, 270, 249, 66, 4, 251, 83, 172, 121, 239, 178, 134, 195, 16, 33, 266, 147, 182, 272, 131, 135, 264, 259, 18, 162, 19, 238, 287, 60, 28, 218, 142, 268, 188, 291, 117, 127, 64, 59, 31, 52, 39, 108, 81, 70, 175, 40, 284, 130, 244, 151, 271, 114, 7, 58, 297, 100, 99, 261, 275, 199, 84, 194, 88, 152, 177, 21, 138, 119, 68, 102, 247, 71, 242, 258, 65, 254, 115, 95, 214, 14, 159, 183, 217, 169, 79, 72, 181, 235, 278, 232, 290, 120, 263, 236, 139, 128, 173, 206, 205, 228, 256, 94, 37, 213, 35, 186, 296, 163]\n"
     ]
    }
   ],
   "source": [
    "\n",
    "curs.execute(sql)\n",
    "rows = curs.fetchall()\n",
    "conn.close()\n",
    "counter=0\n",
    "\n",
    "lists = random.sample(range(0,len(rows)),len(rows)) # 1부터 데이터숫자까지의 범위중에 ''개를 중복없이 뽑겠다.\n",
    "print(lists)"
   ],
   "metadata": {
    "collapsed": false,
    "pycharm": {
     "name": "#%%\n"
    }
   }
  },
  {
   "cell_type": "code",
   "execution_count": 23,
   "outputs": [],
   "source": [
    "for row in rows:\n",
    "    write_ws.append([row[0],lists[counter],row[2],row[3],row[4]])\n",
    "    counter+=1"
   ],
   "metadata": {
    "collapsed": false,
    "pycharm": {
     "name": "#%%\n"
    }
   }
  },
  {
   "cell_type": "code",
   "execution_count": 24,
   "outputs": [],
   "source": [
    "write_wb.save(file_name+'.xlsx')"
   ],
   "metadata": {
    "collapsed": false,
    "pycharm": {
     "name": "#%%\n"
    }
   }
  },
  {
   "cell_type": "code",
   "execution_count": null,
   "outputs": [],
   "source": [],
   "metadata": {
    "collapsed": false,
    "pycharm": {
     "name": "#%%\n"
    }
   }
  },
  {
   "cell_type": "code",
   "execution_count": null,
   "outputs": [],
   "source": [],
   "metadata": {
    "collapsed": false,
    "pycharm": {
     "name": "#%%\n"
    }
   }
  },
  {
   "cell_type": "code",
   "execution_count": null,
   "outputs": [],
   "source": [],
   "metadata": {
    "collapsed": false,
    "pycharm": {
     "name": "#%%\n"
    }
   }
  },
  {
   "cell_type": "code",
   "execution_count": null,
   "outputs": [],
   "source": [],
   "metadata": {
    "collapsed": false,
    "pycharm": {
     "name": "#%%\n"
    }
   }
  },
  {
   "cell_type": "code",
   "execution_count": null,
   "outputs": [],
   "source": [],
   "metadata": {
    "collapsed": false,
    "pycharm": {
     "name": "#%%\n"
    }
   }
  },
  {
   "cell_type": "code",
   "execution_count": null,
   "outputs": [],
   "source": [],
   "metadata": {
    "collapsed": false,
    "pycharm": {
     "name": "#%%\n"
    }
   }
  }
 ],
 "metadata": {
  "kernelspec": {
   "display_name": "Python 3",
   "language": "python",
   "name": "python3"
  },
  "language_info": {
   "codemirror_mode": {
    "name": "ipython",
    "version": 2
   },
   "file_extension": ".py",
   "mimetype": "text/x-python",
   "name": "python",
   "nbconvert_exporter": "python",
   "pygments_lexer": "ipython2",
   "version": "2.7.6"
  }
 },
 "nbformat": 4,
 "nbformat_minor": 0
}