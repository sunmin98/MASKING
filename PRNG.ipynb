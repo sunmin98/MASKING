{
 "cells": [
  {
   "cell_type": "code",
   "execution_count": 18,
   "outputs": [],
   "source": [
    "file_name=str(input())"
   ],
   "metadata": {
    "collapsed": false,
    "pycharm": {
     "name": "#%%\n"
    }
   }
  },
  {
   "cell_type": "code",
   "execution_count": 19,
   "metadata": {
    "collapsed": true
   },
   "outputs": [],
   "source": [
    "import re\n",
    "\n",
    "import csv\n",
    "\n",
    "import pymysql\n",
    "\n",
    "from openpyxl import Workbook\n",
    "import random  # 난수 생성\n",
    "\n"
   ]
  },
  {
   "cell_type": "code",
   "execution_count": 20,
   "outputs": [],
   "source": [
    "write_wb = Workbook()\n",
    "write_ws = write_wb.active"
   ],
   "metadata": {
    "collapsed": false,
    "pycharm": {
     "name": "#%%\n"
    }
   }
  },
  {
   "cell_type": "code",
   "execution_count": 21,
   "outputs": [],
   "source": [
    "conn = pymysql.connect(host='localhost', user='root', password='tjsals6092',\n",
    "\n",
    "                       db='MASKING', charset='utf8')\n",
    "\n",
    "curs = conn.cursor()\n",
    "\n",
    "conn.commit()"
   ],
   "metadata": {
    "collapsed": false,
    "pycharm": {
     "name": "#%%\n"
    }
   }
  },
  {
   "cell_type": "code",
   "execution_count": 22,
   "outputs": [],
   "source": [
    "sql = \"\"\"SELECT * FROM MASKING.MASKING_TABLE\"\"\"\n",
    "write_ws.append(('ID','이름','성별','집번호','핸드폰번호'))"
   ],
   "metadata": {
    "collapsed": false,
    "pycharm": {
     "name": "#%%\n"
    }
   }
  },
  {
   "cell_type": "markdown",
   "source": [],
   "metadata": {
    "collapsed": false
   }
  },
  {
   "cell_type": "code",
   "execution_count": 23,
   "outputs": [
    {
     "name": "stdout",
     "output_type": "stream",
     "text": [
      "[120, 244, 182, 130, 117, 293, 295, 184, 221, 269, 217, 97, 107, 65, 115, 8, 124, 30, 211, 34, 292, 267, 51, 95, 78, 140, 20, 15, 83, 9, 32, 253, 198, 82, 2, 113, 283, 215, 80, 108, 250, 196, 4, 134, 177, 154, 298, 111, 73, 188, 195, 46, 190, 104, 88, 105, 213, 274, 57, 96, 178, 121, 68, 106, 128, 294, 229, 236, 156, 16, 207, 234, 265, 149, 277, 275, 168, 94, 86, 214, 233, 260, 290, 81, 112, 245, 261, 155, 271, 297, 131, 153, 227, 203, 163, 47, 287, 40, 50, 284, 139, 238, 242, 181, 89, 49, 19, 58, 114, 252, 166, 151, 243, 101, 11, 14, 12, 201, 210, 147, 189, 257, 194, 35, 85, 31, 116, 55, 280, 6, 225, 187, 79, 91, 44, 137, 61, 164, 263, 138, 74, 21, 247, 220, 197, 272, 129, 118, 122, 5, 259, 59, 278, 133, 152, 174, 169, 132, 146, 69, 123, 136, 191, 77, 110, 24, 119, 204, 125, 144, 45, 285, 158, 7, 179, 161, 72, 251, 109, 28, 93, 289, 279, 270, 76, 25, 62, 48, 254, 84, 216, 286, 237, 102, 33, 180, 266, 143, 52, 127, 299, 192, 150, 185, 54, 239, 232, 141, 135, 282, 264, 224, 281, 103, 148, 262, 256, 231, 87, 56, 157, 18, 41, 10, 172, 288, 1, 53, 218, 249, 246, 176, 223, 183, 17, 276, 23, 27, 71, 226, 99, 186, 200, 171, 29, 170, 212, 13, 145, 206, 268, 63, 273, 43, 173, 240, 209, 165, 126, 0, 98, 222, 42, 228, 100, 296, 70, 258, 167, 67, 175, 241, 66, 92, 60, 160, 248, 39, 142, 64, 38, 291, 219, 162, 235, 26, 205, 208, 230, 22, 36, 202, 3, 199, 159, 193, 90, 255, 37, 75]\n"
     ]
    }
   ],
   "source": [
    "\n",
    "curs.execute(sql)\n",
    "rows = curs.fetchall()\n",
    "conn.close()\n",
    "counter=0\n",
    "\n",
    "lists = random.sample(range(0,len(rows)),len(rows)) # 1부터 데이터숫자까지의 범위중에 ''개를 중복없이 뽑겠다.\n",
    "print(lists)"
   ],
   "metadata": {
    "collapsed": false,
    "pycharm": {
     "name": "#%%\n"
    }
   }
  },
  {
   "cell_type": "code",
   "execution_count": 24,
   "outputs": [],
   "source": [
    "for row in rows:\n",
    "    write_ws.append([row[0],lists[counter],row[2],row[3],row[4]])\n",
    "    counter+=1"
   ],
   "metadata": {
    "collapsed": false,
    "pycharm": {
     "name": "#%%\n"
    }
   }
  },
  {
   "cell_type": "code",
   "execution_count": 25,
   "outputs": [],
   "source": [
    "write_wb.save(file_name+'.xlsx')"
   ],
   "metadata": {
    "collapsed": false,
    "pycharm": {
     "name": "#%%\n"
    }
   }
  },
  {
   "cell_type": "code",
   "execution_count": null,
   "outputs": [],
   "source": [],
   "metadata": {
    "collapsed": false,
    "pycharm": {
     "name": "#%%\n"
    }
   }
  },
  {
   "cell_type": "code",
   "execution_count": null,
   "outputs": [],
   "source": [],
   "metadata": {
    "collapsed": false,
    "pycharm": {
     "name": "#%%\n"
    }
   }
  },
  {
   "cell_type": "code",
   "execution_count": null,
   "outputs": [],
   "source": [],
   "metadata": {
    "collapsed": false,
    "pycharm": {
     "name": "#%%\n"
    }
   }
  },
  {
   "cell_type": "code",
   "execution_count": null,
   "outputs": [],
   "source": [],
   "metadata": {
    "collapsed": false,
    "pycharm": {
     "name": "#%%\n"
    }
   }
  },
  {
   "cell_type": "code",
   "execution_count": null,
   "outputs": [],
   "source": [],
   "metadata": {
    "collapsed": false,
    "pycharm": {
     "name": "#%%\n"
    }
   }
  },
  {
   "cell_type": "code",
   "execution_count": null,
   "outputs": [],
   "source": [],
   "metadata": {
    "collapsed": false,
    "pycharm": {
     "name": "#%%\n"
    }
   }
  }
 ],
 "metadata": {
  "kernelspec": {
   "display_name": "Python 3",
   "language": "python",
   "name": "python3"
  },
  "language_info": {
   "codemirror_mode": {
    "name": "ipython",
    "version": 2
   },
   "file_extension": ".py",
   "mimetype": "text/x-python",
   "name": "python",
   "nbconvert_exporter": "python",
   "pygments_lexer": "ipython2",
   "version": "2.7.6"
  }
 },
 "nbformat": 4,
 "nbformat_minor": 0
}