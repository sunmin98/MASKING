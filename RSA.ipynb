{
 "cells": [
  {
   "cell_type": "code",
   "execution_count": null,
   "metadata": {
    "collapsed": true
   },
   "outputs": [],
   "source": []
  },
  {
   "cell_type": "code",
   "execution_count": 2,
   "outputs": [
    {
     "name": "stdout",
     "output_type": "stream",
     "text": [
      "암호문 : 664365\n",
      "N : 988027\n",
      "공개키 : 7\n",
      "개인키 : 140863\n"
     ]
    },
    {
     "data": {
      "text/plain": "'2'"
     },
     "execution_count": 2,
     "metadata": {},
     "output_type": "execute_result"
    }
   ],
   "source": [
    "p = 991\n",
    "q = 997\n",
    "n = p * q\n",
    "tot = (p - 1) * (q - 1)\n",
    "\n",
    "#최대공약수 구하는 거\n",
    "def gcd(num1, num2):\n",
    "    while num2 != 0:\n",
    "        num1, num2 = num2, num1%num2\n",
    "    return num1\n",
    "\n",
    "#공개키\n",
    "def publickey():\n",
    "    global tot\n",
    "    e = 2\n",
    "    while e<tot and gcd(e, tot) != 1:\n",
    "        e += 1\n",
    "    return e\n",
    "\n",
    "\n",
    "\n",
    "#개인키\n",
    "def privatekey():\n",
    "    global e\n",
    "    global tot\n",
    "    d = 1\n",
    "    while (publickey() * d) % tot != 1 or d == publickey():\n",
    "        d += 1\n",
    "    return d\n",
    "\n",
    "\n",
    "\n",
    "ori = int((input(\"평서문 : \")))\n",
    "eori = ((ori**publickey())%n)\n",
    "\n",
    "\n",
    "\n",
    "\n",
    "\n",
    "print(\"암호문 : {}\".format(eori))\n",
    "print(\"N : {}\".format(n))\n",
    "print(\"공개키 : {}\".format(publickey()))\n",
    "print(\"개인키 : {}\".format(privatekey()))\n",
    "\n",
    "input()"
   ],
   "metadata": {
    "collapsed": false,
    "pycharm": {
     "name": "#%%\n"
    }
   }
  },
  {
   "cell_type": "code",
   "execution_count": 3,
   "outputs": [
    {
     "name": "stdout",
     "output_type": "stream",
     "text": [
      "평서문 : 1\n"
     ]
    },
    {
     "data": {
      "text/plain": "'3'"
     },
     "execution_count": 3,
     "metadata": {},
     "output_type": "execute_result"
    }
   ],
   "source": [
    "n = int(input(\"N의 값을 입력하세요 : \"))\n",
    "eori = int(input(\"암호문을 입력하세요 : \"))\n",
    "\n",
    "d = int(input(\"개인키를 입력하세요 : \"))\n",
    "\n",
    "\n",
    "ori = (eori**d)%n\n",
    "print(\"평서문 : {}\".format(ori))\n",
    "input()"
   ],
   "metadata": {
    "collapsed": false,
    "pycharm": {
     "name": "#%%\n"
    }
   }
  },
  {
   "cell_type": "code",
   "execution_count": null,
   "outputs": [],
   "source": [],
   "metadata": {
    "collapsed": false,
    "pycharm": {
     "name": "#%%\n"
    }
   }
  }
 ],
 "metadata": {
  "kernelspec": {
   "display_name": "Python 3",
   "language": "python",
   "name": "python3"
  },
  "language_info": {
   "codemirror_mode": {
    "name": "ipython",
    "version": 2
   },
   "file_extension": ".py",
   "mimetype": "text/x-python",
   "name": "python",
   "nbconvert_exporter": "python",
   "pygments_lexer": "ipython2",
   "version": "2.7.6"
  }
 },
 "nbformat": 4,
 "nbformat_minor": 0
}