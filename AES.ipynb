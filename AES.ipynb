{
 "cells": [
  {
   "cell_type": "code",
   "execution_count": 2,
   "metadata": {
    "collapsed": true
   },
   "outputs": [],
   "source": [
    "\n",
    "from cryptography.fernet import Fernet # symmetric encryption"
   ]
  },
  {
   "cell_type": "code",
   "execution_count": 3,
   "outputs": [],
   "source": [
    "class SimpleEnDecrypt:\n",
    "    def __init__(self, key=None):\n",
    "        if key is None: # 키가 없다면\n",
    "            key = Fernet.generate_key() # 키를 생성한다\n",
    "        self.key = key\n",
    "        self.f   = Fernet(self.key)\n",
    "\n",
    "    def encrypt(self, data, is_out_string=True):    # 암호화 함수\n",
    "        if isinstance(data, bytes):\n",
    "            ou = self.f.encrypt(data) # 바이트형태이면 바로 암호화\n",
    "        else:\n",
    "            ou = self.f.encrypt(data.encode('utf-8')) # 인코딩 후 암호화\n",
    "        if is_out_string is True:\n",
    "            return ou.decode('utf-8') # 출력이 문자열이면 디코딩 후 반환\n",
    "        else:\n",
    "            return ou\n",
    "\n",
    "    def decrypt(self, data, is_out_string=True):     # 복호화 함수\n",
    "        if isinstance(data, bytes):\n",
    "            ou = self.f.decrypt(data) # 바이트형태이면 바로 복호화\n",
    "        else:\n",
    "            ou = self.f.decrypt(data.encode('utf-8')) # 인코딩 후 복호화\n",
    "        if is_out_string is True:\n",
    "            return ou.decode('utf-8') # 출력이 문자열이면 디코딩 후 반환\n",
    "        else:\n",
    "            return ou"
   ],
   "metadata": {
    "collapsed": false,
    "pycharm": {
     "name": "#%%\n"
    }
   }
  },
  {
   "cell_type": "code",
   "execution_count": 4,
   "outputs": [],
   "source": [
    "simpleEnDecrypt = SimpleEnDecrypt()"
   ],
   "metadata": {
    "collapsed": false,
    "pycharm": {
     "name": "#%%\n"
    }
   }
  },
  {
   "cell_type": "code",
   "execution_count": 5,
   "outputs": [
    {
     "name": "stdout",
     "output_type": "stream",
     "text": [
      "김선민 최고\n"
     ]
    }
   ],
   "source": [
    "plain_text = '김선민 최고'\n",
    "print(plain_text)"
   ],
   "metadata": {
    "collapsed": false,
    "pycharm": {
     "name": "#%%\n"
    }
   }
  },
  {
   "cell_type": "code",
   "execution_count": 6,
   "outputs": [
    {
     "name": "stdout",
     "output_type": "stream",
     "text": [
      "gAAAAABjBGR9-Eu3IaUAK7C-bPSqEfYLxYC4Fis4yhNC_KHC_RF7J2x7yJp77Tr-ZJ08NRlgXmT3kV9imOQvpKGK67lDx21Ijo-EXcNURJoVoNvFctYdImQ=\n"
     ]
    }
   ],
   "source": [
    "encrypt_text = simpleEnDecrypt.encrypt(plain_text)\n",
    "print(encrypt_text)"
   ],
   "metadata": {
    "collapsed": false,
    "pycharm": {
     "name": "#%%\n"
    }
   }
  },
  {
   "cell_type": "code",
   "execution_count": 7,
   "outputs": [
    {
     "name": "stdout",
     "output_type": "stream",
     "text": [
      "김선민 최고\n"
     ]
    }
   ],
   "source": [
    "decrypt_text = simpleEnDecrypt.decrypt(encrypt_text)\n",
    "print(decrypt_text)"
   ],
   "metadata": {
    "collapsed": false,
    "pycharm": {
     "name": "#%%\n"
    }
   }
  },
  {
   "cell_type": "code",
   "execution_count": null,
   "outputs": [],
   "source": [],
   "metadata": {
    "collapsed": false,
    "pycharm": {
     "name": "#%%\n"
    }
   }
  },
  {
   "cell_type": "code",
   "execution_count": null,
   "outputs": [],
   "source": [],
   "metadata": {
    "collapsed": false,
    "pycharm": {
     "name": "#%%\n"
    }
   }
  },
  {
   "cell_type": "code",
   "execution_count": null,
   "outputs": [],
   "source": [],
   "metadata": {
    "collapsed": false,
    "pycharm": {
     "name": "#%%\n"
    }
   }
  },
  {
   "cell_type": "code",
   "execution_count": null,
   "outputs": [],
   "source": [],
   "metadata": {
    "collapsed": false,
    "pycharm": {
     "name": "#%%\n"
    }
   }
  }
 ],
 "metadata": {
  "kernelspec": {
   "display_name": "Python 3",
   "language": "python",
   "name": "python3"
  },
  "language_info": {
   "codemirror_mode": {
    "name": "ipython",
    "version": 2
   },
   "file_extension": ".py",
   "mimetype": "text/x-python",
   "name": "python",
   "nbconvert_exporter": "python",
   "pygments_lexer": "ipython2",
   "version": "2.7.6"
  }
 },
 "nbformat": 4,
 "nbformat_minor": 0
}