{
 "cells": [
  {
   "cell_type": "code",
   "execution_count": 1,
   "outputs": [],
   "source": [
    "file_name=str(input())"
   ],
   "metadata": {
    "collapsed": false,
    "pycharm": {
     "name": "#%%\n"
    }
   }
  },
  {
   "cell_type": "code",
   "execution_count": 3,
   "metadata": {
    "collapsed": true
   },
   "outputs": [],
   "source": [
    "import re\n",
    "\n",
    "import csv\n",
    "\n",
    "import pymysql\n",
    "\n",
    "from openpyxl import Workbook"
   ]
  },
  {
   "cell_type": "code",
   "execution_count": 4,
   "outputs": [
    {
     "name": "stdout",
     "output_type": "stream",
     "text": [
      "Simple program to generate the SHA-256 Hash of the String 'Python forensics'\n"
     ]
    },
    {
     "ename": "TypeError",
     "evalue": "Unicode-objects must be encoded before hashing",
     "output_type": "error",
     "traceback": [
      "\u001B[0;31m---------------------------------------------------------------------------\u001B[0m",
      "\u001B[0;31mTypeError\u001B[0m                                 Traceback (most recent call last)",
      "Input \u001B[0;32mIn [4]\u001B[0m, in \u001B[0;36m<cell line: 11>\u001B[0;34m()\u001B[0m\n\u001B[1;32m      9\u001B[0m \u001B[38;5;66;03m# sha256 형식으로 지정된 해시 객체 생성\u001B[39;00m\n\u001B[1;32m     10\u001B[0m hashSHA \u001B[38;5;241m=\u001B[39m hashlib\u001B[38;5;241m.\u001B[39msha256()\n\u001B[0;32m---> 11\u001B[0m \u001B[43mhashSHA\u001B[49m\u001B[38;5;241;43m.\u001B[39;49m\u001B[43mupdate\u001B[49m\u001B[43m(\u001B[49m\u001B[43mmyString\u001B[49m\u001B[43m)\u001B[49m\n\u001B[1;32m     13\u001B[0m \u001B[38;5;66;03m# hexdigent 방법을 이용하여 객체로부터 SHA256 해시데 대한 16진수 값을 구함\u001B[39;00m\n\u001B[1;32m     14\u001B[0m hexSHA256 \u001B[38;5;241m=\u001B[39m hashSHA\u001B[38;5;241m.\u001B[39mhexdigest()\n",
      "\u001B[0;31mTypeError\u001B[0m: Unicode-objects must be encoded before hashing"
     ]
    }
   ],
   "source": [
    "\n",
    "import hashlib\n",
    "\n",
    "print\n",
    "print (\"Simple program to generate the SHA-256 Hash of the String 'Python forensics'\")\n",
    "print\n",
    "\n",
    "myString = \"Python forensics\"\n",
    "\n",
    "# sha256 형식으로 지정된 해시 객체 생성\n",
    "hashSHA = hashlib.sha256()\n",
    "hashSHA.update(myString)\n",
    "\n",
    "# hexdigent 방법을 이용하여 객체로부터 SHA256 해시데 대한 16진수 값을 구함\n",
    "hexSHA256 = hashSHA.hexdigest()\n",
    "\n",
    "print (\"SHA-256 Hash: \" + hexSHA256.upper())\n",
    "print\n",
    "\n",
    "print (\"Processing completed\")"
   ],
   "metadata": {
    "collapsed": false,
    "pycharm": {
     "name": "#%%\n"
    }
   }
  },
  {
   "cell_type": "code",
   "execution_count": 3,
   "outputs": [],
   "source": [
    "write_wb = Workbook()\n",
    "write_ws = write_wb.active"
   ],
   "metadata": {
    "collapsed": false,
    "pycharm": {
     "name": "#%%\n"
    }
   }
  },
  {
   "cell_type": "code",
   "execution_count": 4,
   "outputs": [],
   "source": [
    "conn = pymysql.connect(host='localhost', user='root', password='tjsals6092',\n",
    "\n",
    "                       db='MASKING', charset='utf8')\n",
    "\n",
    "curs = conn.cursor()\n",
    "\n",
    "conn.commit()"
   ],
   "metadata": {
    "collapsed": false,
    "pycharm": {
     "name": "#%%\n"
    }
   }
  },
  {
   "cell_type": "code",
   "execution_count": 5,
   "outputs": [],
   "source": [
    "sql = \"\"\"SELECT * FROM MASKING.MASKING_TABLE\"\"\"\n",
    "write_ws.append(('이름','성별','집번호','핸드폰번호'))"
   ],
   "metadata": {
    "collapsed": false,
    "pycharm": {
     "name": "#%%\n"
    }
   }
  },
  {
   "cell_type": "markdown",
   "source": [],
   "metadata": {
    "collapsed": false
   }
  },
  {
   "cell_type": "code",
   "execution_count": 6,
   "outputs": [],
   "source": [
    "\n",
    "curs.execute(sql)\n",
    "rows = curs.fetchall()\n",
    "conn.close()\n",
    "counter=0"
   ],
   "metadata": {
    "collapsed": false,
    "pycharm": {
     "name": "#%%\n"
    }
   }
  },
  {
   "cell_type": "code",
   "execution_count": 7,
   "outputs": [],
   "source": [
    "for row in rows:\n",
    "    write_ws.append([counter,row[2],row[3],row[4]])\n",
    "    counter+=1"
   ],
   "metadata": {
    "collapsed": false,
    "pycharm": {
     "name": "#%%\n"
    }
   }
  },
  {
   "cell_type": "code",
   "execution_count": 8,
   "outputs": [],
   "source": [
    "write_wb.save(file_name+'.xlsx')"
   ],
   "metadata": {
    "collapsed": false,
    "pycharm": {
     "name": "#%%\n"
    }
   }
  },
  {
   "cell_type": "code",
   "execution_count": null,
   "outputs": [],
   "source": [],
   "metadata": {
    "collapsed": false,
    "pycharm": {
     "name": "#%%\n"
    }
   }
  },
  {
   "cell_type": "code",
   "execution_count": null,
   "outputs": [],
   "source": [],
   "metadata": {
    "collapsed": false,
    "pycharm": {
     "name": "#%%\n"
    }
   }
  },
  {
   "cell_type": "code",
   "execution_count": null,
   "outputs": [],
   "source": [],
   "metadata": {
    "collapsed": false,
    "pycharm": {
     "name": "#%%\n"
    }
   }
  },
  {
   "cell_type": "code",
   "execution_count": null,
   "outputs": [],
   "source": [],
   "metadata": {
    "collapsed": false,
    "pycharm": {
     "name": "#%%\n"
    }
   }
  },
  {
   "cell_type": "code",
   "execution_count": null,
   "outputs": [],
   "source": [],
   "metadata": {
    "collapsed": false,
    "pycharm": {
     "name": "#%%\n"
    }
   }
  },
  {
   "cell_type": "code",
   "execution_count": null,
   "outputs": [],
   "source": [],
   "metadata": {
    "collapsed": false,
    "pycharm": {
     "name": "#%%\n"
    }
   }
  }
 ],
 "metadata": {
  "kernelspec": {
   "display_name": "Python 3",
   "language": "python",
   "name": "python3"
  },
  "language_info": {
   "codemirror_mode": {
    "name": "ipython",
    "version": 2
   },
   "file_extension": ".py",
   "mimetype": "text/x-python",
   "name": "python",
   "nbconvert_exporter": "python",
   "pygments_lexer": "ipython2",
   "version": "2.7.6"
  }
 },
 "nbformat": 4,
 "nbformat_minor": 0
}