{
 "cells": [
  {
   "cell_type": "code",
   "execution_count": 54,
   "outputs": [],
   "source": [
    "file_name=str(input())"
   ],
   "metadata": {
    "collapsed": false,
    "pycharm": {
     "name": "#%%\n"
    }
   }
  },
  {
   "cell_type": "code",
   "execution_count": 55,
   "metadata": {
    "collapsed": true
   },
   "outputs": [],
   "source": [
    "import re\n",
    "import hashlib\n",
    "import csv\n",
    "import pymysql\n",
    "from openpyxl import Workbook"
   ]
  },
  {
   "cell_type": "code",
   "execution_count": 56,
   "outputs": [],
   "source": [
    "write_wb = Workbook()\n",
    "write_ws = write_wb.active"
   ],
   "metadata": {
    "collapsed": false,
    "pycharm": {
     "name": "#%%\n"
    }
   }
  },
  {
   "cell_type": "code",
   "execution_count": 57,
   "outputs": [],
   "source": [
    "conn = pymysql.connect(host='localhost', user='root', password='tjsals6092',\n",
    "                       db='MASKING', charset='utf8')\n",
    "curs = conn.cursor()\n",
    "conn.commit()"
   ],
   "metadata": {
    "collapsed": false,
    "pycharm": {
     "name": "#%%\n"
    }
   }
  },
  {
   "cell_type": "code",
   "execution_count": 58,
   "outputs": [],
   "source": [
    "sql = \"\"\"SELECT * FROM MASKING.MASKING_TABLE\"\"\"\n",
    "write_ws.append(('ID','이름','성별','집번호','핸드폰번호'))"
   ],
   "metadata": {
    "collapsed": false,
    "pycharm": {
     "name": "#%%\n"
    }
   }
  },
  {
   "cell_type": "code",
   "execution_count": 59,
   "outputs": [],
   "source": [
    "curs.execute(sql)\n",
    "rows = curs.fetchall()\n",
    "conn.close()"
   ],
   "metadata": {
    "collapsed": false,
    "pycharm": {
     "name": "#%%\n"
    }
   }
  },
  {
   "cell_type": "code",
   "execution_count": 60,
   "outputs": [],
   "source": [
    "for row in rows:\n",
    "    #print(row[0], row[1],row[2],row[3],row[4])\n",
    "    #regex=re.compile(\"\\d{3}-\\d{3,4}-\\d{4}\",row[4])\n",
    "    #print(pat.sub(\"\\g<1>-****-****)\n",
    "    #print(pat)\n",
    "    #text_mod = re.sub('^[0-9]{3}-[0-9]{4}-[0-9]{4}',\"***-****-****\",row[4])\n",
    "    #print(text_mod)\n",
    "    PHONENUMBER_MA = re.sub(r'(?P<first>\\d{2,3})-(?P<second>\\d{3,4})-(?P<third>\\d{4})', r'\\g<first>-****-\\g<third>', row[4]) #(?P<first>\\d{2,3})\n",
    "    #NAME_MA = re.sub(r'(?P<first>\\d{2,3})-(?P<second>\\d{3,4})-(?P<third>\\d{4})', r'\\g<first>-****-\\g<third>', row[4])\n",
    "    if len(row[1])==2 : # 두글자일때\n",
    "        NAME_MA_2 = re.sub(r'(?P<first>[가-힣+])(?P<second>[가-힣+])', r'\\g<first>*', row[1])\n",
    "        write_ws.append([row[0],NAME_MA_2,row[2],row[3],PHONENUMBER_MA])\n",
    "    if len(row[1])==3 : # 세글자\n",
    "        NAME_MA_3 = re.sub(r'(?P<first>[가-힣+])(?P<second>[가-힣+])(?P<third>[가-힣+])', r'\\g<first>**', row[1])\n",
    "        write_ws.append([row[0],NAME_MA_3,row[2],row[3],PHONENUMBER_MA])\n",
    "    if len(row[1])==4 : #네글자\n",
    "        NAME_MA_4 = re.sub(r'(?P<first>[가-힣+])(?P<second>[가-힣+])(?P<third>[가-힣+])(?P<force>[가-힣+])', r'\\g<first>***', row[1])\n",
    "        write_ws.append([row[0],NAME_MA_4,row[2],row[3],PHONENUMBER_MA])\n",
    "\n",
    "    #print(NAME_MA)\n",
    "    #print(PHONENUMBER_MA)\n",
    "\n"
   ],
   "metadata": {
    "collapsed": false,
    "pycharm": {
     "name": "#%%\n"
    }
   }
  },
  {
   "cell_type": "code",
   "execution_count": 61,
   "outputs": [],
   "source": [
    "write_wb.save(file_name+'.xlsx')"
   ],
   "metadata": {
    "collapsed": false,
    "pycharm": {
     "name": "#%%\n"
    }
   }
  },
  {
   "cell_type": "markdown",
   "source": [
    "--------------------------------------------------------------------------------------------------------------------------------"
   ],
   "metadata": {
    "collapsed": false
   }
  },
  {
   "cell_type": "code",
   "execution_count": null,
   "outputs": [],
   "source": [],
   "metadata": {
    "collapsed": false,
    "pycharm": {
     "name": "#%%\n"
    }
   }
  },
  {
   "cell_type": "code",
   "execution_count": null,
   "outputs": [],
   "source": [],
   "metadata": {
    "collapsed": false,
    "pycharm": {
     "name": "#%%\n"
    }
   }
  },
  {
   "cell_type": "code",
   "execution_count": 20,
   "outputs": [
    {
     "ename": "TypeError",
     "evalue": "Unicode-objects must be encoded before hashing",
     "output_type": "error",
     "traceback": [
      "\u001B[0;31m---------------------------------------------------------------------------\u001B[0m",
      "\u001B[0;31mTypeError\u001B[0m                                 Traceback (most recent call last)",
      "Input \u001B[0;32mIn [20]\u001B[0m, in \u001B[0;36m<cell line: 1>\u001B[0;34m()\u001B[0m\n\u001B[0;32m----> 1\u001B[0m \u001B[38;5;28mprint\u001B[39m(\u001B[43mhashlib\u001B[49m\u001B[38;5;241;43m.\u001B[39;49m\u001B[43msha3_256\u001B[49m\u001B[43m(\u001B[49m\u001B[38;5;124;43m\"\u001B[39;49m\u001B[38;5;124;43m \u001B[39;49m\u001B[38;5;124;43m\"\u001B[39;49m\u001B[43m)\u001B[49m)\n",
      "\u001B[0;31mTypeError\u001B[0m: Unicode-objects must be encoded before hashing"
     ]
    }
   ],
   "source": [
    "print(hashlib.sha3_256(\" \"))"
   ],
   "metadata": {
    "collapsed": false,
    "pycharm": {
     "name": "#%%\n"
    }
   }
  },
  {
   "cell_type": "code",
   "execution_count": null,
   "outputs": [],
   "source": [],
   "metadata": {
    "collapsed": false,
    "pycharm": {
     "name": "#%%\n"
    }
   }
  },
  {
   "cell_type": "code",
   "execution_count": 10,
   "outputs": [
    {
     "name": "stdout",
     "output_type": "stream",
     "text": [
      "7ac1b0eb50ca37c24e9f0383605636f1fab555a8f208b19da22c04566c3ce78e\n",
      "4c5e7b09ca50f779f5b422c7ee2178e35137583fd8ca981436b3af9fa0db2d43\n"
     ]
    }
   ],
   "source": [
    "word = \"김선민 화이팅\"\n",
    "print(hashlib.sha256(word.encode()).hexdigest())\n",
    "word = \"김선민 화이탕\"\n",
    "print(hashlib.sha256(word.encode()).hexdigest())"
   ],
   "metadata": {
    "collapsed": false,
    "pycharm": {
     "name": "#%%\n"
    }
   }
  },
  {
   "cell_type": "code",
   "execution_count": 11,
   "outputs": [
    {
     "name": "stdout",
     "output_type": "stream",
     "text": [
      "b'A'\n"
     ]
    },
    {
     "ename": "AttributeError",
     "evalue": "'str' object has no attribute 'deco'",
     "output_type": "error",
     "traceback": [
      "\u001B[0;31m---------------------------------------------------------------------------\u001B[0m",
      "\u001B[0;31mAttributeError\u001B[0m                            Traceback (most recent call last)",
      "Input \u001B[0;32mIn [11]\u001B[0m, in \u001B[0;36m<cell line: 3>\u001B[0;34m()\u001B[0m\n\u001B[1;32m      1\u001B[0m worf\u001B[38;5;241m=\u001B[39m\u001B[38;5;124m\"\u001B[39m\u001B[38;5;124mA\u001B[39m\u001B[38;5;124m\"\u001B[39m\n\u001B[1;32m      2\u001B[0m \u001B[38;5;28mprint\u001B[39m(worf\u001B[38;5;241m.\u001B[39mencode(\u001B[38;5;124m\"\u001B[39m\u001B[38;5;124mUTF-8\u001B[39m\u001B[38;5;124m\"\u001B[39m))\n\u001B[0;32m----> 3\u001B[0m \u001B[38;5;28mprint\u001B[39m(\u001B[43mworf\u001B[49m\u001B[38;5;241;43m.\u001B[39;49m\u001B[43mdeco\u001B[49m)\n",
      "\u001B[0;31mAttributeError\u001B[0m: 'str' object has no attribute 'deco'"
     ]
    }
   ],
   "source": [
    "worf=\"A\"\n",
    "print(worf.encode(\"UTF-8\"))\n",
    "print(worf.deco)"
   ],
   "metadata": {
    "collapsed": false,
    "pycharm": {
     "name": "#%%\n"
    }
   }
  },
  {
   "cell_type": "code",
   "execution_count": null,
   "outputs": [],
   "source": [],
   "metadata": {
    "collapsed": false,
    "pycharm": {
     "name": "#%%\n"
    }
   }
  }
 ],
 "metadata": {
  "kernelspec": {
   "display_name": "Python 3",
   "language": "python",
   "name": "python3"
  },
  "language_info": {
   "codemirror_mode": {
    "name": "ipython",
    "version": 2
   },
   "file_extension": ".py",
   "mimetype": "text/x-python",
   "name": "python",
   "nbconvert_exporter": "python",
   "pygments_lexer": "ipython2",
   "version": "2.7.6"
  }
 },
 "nbformat": 4,
 "nbformat_minor": 0
}